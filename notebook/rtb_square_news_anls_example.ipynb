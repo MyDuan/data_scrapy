{
 "cells": [
  {
   "cell_type": "code",
   "execution_count": 1,
   "metadata": {
    "collapsed": true
   },
   "outputs": [],
   "source": [
    "import sqlite3\n",
    "import matplotlib.pyplot as plt\n",
    "\n",
    "conn = sqlite3.connect('./data_example.db')\n",
    "c = conn.cursor()"
   ]
  },
  {
   "cell_type": "heading",
   "metadata": {},
   "level": 1,
   "source": [
    "Statistics how many news have been published a month since 2016."
   ]
  },
  {
   "cell_type": "code",
   "execution_count": 2,
   "metadata": {},
   "outputs": [
    {
     "name": "stdout",
     "output_type": "stream",
     "text": [
      "year: 2016| month: 1| count: 55\nyear: 2016| month: 2| count: 62\nyear: 2016| month: 3| count: 83\nyear: 2016| month: 4| count: 65\nyear: 2016| month: 5| count: 66\nyear: 2016| month: 6| count: 85\nyear: 2016| month: 7| count: 75\nyear: 2016| month: 8| count: 68\nyear: 2016| month: 9| count: 76\nyear: 2016| month: 10| count: 64\nyear: 2016| month: 11| count: 81\nyear: 2016| month: 12| count: 66\nyear: 2017| month: 1| count: 52\nyear: 2017| month: 2| count: 75\nyear: 2017| month: 3| count: 83\nyear: 2017| month: 4| count: 68\nyear: 2017| month: 5| count: 71\nyear: 2017| month: 6| count: 102\nyear: 2017| month: 7| count: 95\nyear: 2017| month: 8| count: 80\nyear: 2017| month: 9| count: 91\nyear: 2017| month: 10| count: 106\nyear: 2017| month: 11| count: 78\nyear: 2017| month: 12| count: 73\nyear: 2018| month: 1| count: 67\nyear: 2018| month: 2| count: 76\nyear: 2018| month: 3| count: 78\nyear: 2018| month: 4| count: 62\nyear: 2018| month: 5| count: 64\nyear: 2018| month: 6| count: 97\nyear: 2018| month: 7| count: 73\nyear: 2018| month: 8| count: 74\nyear: 2018| month: 9| count: 61\nyear: 2018| month: 10| count: 88\nyear: 2018| month: 11| count: 70\nyear: 2018| month: 12| count: 42\nyear: 2019| month: 1| count: 78\nyear: 2019| month: 2| count: 68\nyear: 2019| month: 3| count: 82\nyear: 2019| month: 4| count: 65\nyear: 2019| month: 5| count: 62\nyear: 2019| month: 6| count: 72\nyear: 2019| month: 7| count: 82\nyear: 2019| month: 8| count: 60\nyear: 2019| month: 9| count: 55\n"
     ]
    }
   ],
   "source": [
    "c.execute('select release_year, release_month, count(1) from rtb_square_news group by release_year, release_month')\n",
    "\n",
    "results = c.fetchall()\n",
    "\n",
    "for result in results:\n",
    "    print(\"year: \" + str(result[0]) + \"| \" + \"month: \" + str(result[1]) + \"| \" + \"count: \" + str(result[2]))"
   ]
  },
  {
   "cell_type": "code",
   "execution_count": 3,
   "metadata": {
    "collapsed": false
   },
   "outputs": [],
   "source": [
    "c.execute('select id, release_year, key_words from rtb_square_news')\n",
    "\n",
    "keywors = {}\n",
    "results = c.fetchall()\n",
    "for item in results:\n",
    "    if item[2] != '':\n",
    "        keywors.setdefault(item[1], [])\n",
    "        keywors[item[1]] += (item[2].split('/'))\n"
   ]
  },
  {
   "cell_type": "heading",
   "metadata": {
    "collapsed": false
   },
   "level": 1,
   "source": [
    "Statistics top 10 key words every year since 2016."
   ]
  },
  {
   "cell_type": "code",
   "execution_count": 4,
   "metadata": {},
   "outputs": [
    {
     "name": "stdout",
     "output_type": "stream",
     "text": [
      "Top 10 key words in 2019:\nサイバーエージェント    48\n電通            42\n動画広告          26\nDAC           23\n博報堂           17\nCCI           16\n電通デジタル        15\nAI            15\nDMP           14\nヤフー           14\ndtype: int64\n"
     ]
    },
    {
     "data": {
      "image/png": "[encoded data removed]",
      "text/plain": [
       "<Figure size 432x288 with 1 Axes>"
      ]
     },
     "metadata": {},
     "output_type": "display_data"
    }
   ],
   "source": [
    "import pandas as pd\n",
    "print(\"Top 10 key words in 2019:\")\n",
    "top10_list_2019 = pd.value_counts(keywors[2019])[0:10] \n",
    "print(top10_list_2019)\n",
    "\n",
    "\n",
    "top10_list_2019.plot.bar()\n",
    "plt.show()"
   ]
  },
  {
   "cell_type": "code",
   "execution_count": 5,
   "metadata": {},
   "outputs": [
    {
     "name": "stdout",
     "output_type": "stream",
     "text": [
      "Top 10 key words in 2018:\nサイバーエージェント           83\n電通                   54\nDAC                  39\nオプト                  29\nLINE                 23\nSupership            22\nソネット・メディア・ネットワークス    20\n買収                   19\nCCI                  18\nAI                   17\ndtype: int64\n"
     ]
    },
    {
     "data": {
      "image/png": "[encoded data removed]",
      "text/plain": [
       "<Figure size 432x288 with 1 Axes>"
      ]
     },
     "metadata": {},
     "output_type": "display_data"
    }
   ],
   "source": [
    "print(\"Top 10 key words in 2018:\")\n",
    "top10_list_2018 = pd.value_counts(keywors[2018])[0:10]\n",
    "\n",
    "print(top10_list_2018)\n",
    "top10_list_2018.plot.bar()\n",
    "plt.show()"
   ]
  },
  {
   "cell_type": "code",
   "execution_count": 6,
   "metadata": {},
   "outputs": [
    {
     "name": "stdout",
     "output_type": "stream",
     "text": [
      "Top 10 key words in 2017:\n動画広告          95\nサイバーエージェント    94\n電通            68\nDAC           43\nLINE          42\nオプト           38\nSupership     31\n買収            29\n博報堂           25\nCriteo        23\ndtype: int64\n"
     ]
    },
    {
     "data": {
      "image/png": "[encoded data removed]",
      "text/plain": [
       "<Figure size 432x288 with 1 Axes>"
      ]
     },
     "metadata": {},
     "output_type": "display_data"
    }
   ],
   "source": [
    "print(\"Top 10 key words in 2017:\")\n",
    "top10_list_2017 = pd.value_counts(keywors[2017])[0:10]\n",
    "\n",
    "print(top10_list_2017)\n",
    "top10_list_2017.plot.bar()\n",
    "plt.show()\n"
   ]
  },
  {
   "cell_type": "code",
   "execution_count": 7,
   "metadata": {
    "collapsed": true
   },
   "outputs": [
    {
     "name": "stdout",
     "output_type": "stream",
     "text": [
      "Top 10 key words in 2016:\n電通                   53\nサイバーエージェント           51\nDAC                  35\nFacebook             31\n買収                   30\n動画広告                 30\nLINE                 30\nGoogle               25\nソネット・メディア・ネットワークス    21\n博報堂                  18\ndtype: int64\n"
     ]
    },
    {
     "data": {
      "image/png": "[encoded data removed]",
      "text/plain": [
       "<Figure size 432x288 with 1 Axes>"
      ]
     },
     "metadata": {},
     "output_type": "display_data"
    }
   ],
   "source": [
    "print(\"Top 10 key words in 2016:\")\n",
    "top10_list_2016 = pd.value_counts(keywors[2016])[0:10]\n",
    "\n",
    "print(top10_list_2016)\n",
    "top10_list_2016.plot.bar()\n",
    "plt.show()\n"
   ]
  },
  {
   "cell_type": "heading",
   "metadata": {},
   "level": 1,
   "source": [
    "The counts of news about freakout every year since 2016"
   ]
  },
  {
   "cell_type": "code",
   "execution_count": 8,
   "metadata": {
    "collapsed": false
   },
   "outputs": [
    {
     "data": {
      "image/png": "[encoded data removed]",
      "text/plain": [
       "<Figure size 432x288 with 1 Axes>"
      ]
     },
     "metadata": {},
     "output_type": "display_data"
    }
   ],
   "source": [
    "count_every_year = {}\n",
    "for year in range(2016, 2020):\n",
    "    key_words_num = pd.value_counts(keywors[year])['フリークアウト']\n",
    "    count_every_year[year] = key_words_num\n",
    "result = pd.Series(data = count_every_year)\n",
    "result.plot.bar(color='r')\n",
    "plt.show()"
   ]
  },
  {
   "cell_type": "heading",
   "metadata": {},
   "level": 1,
   "source": [
    "Display news topics which have corresponding keywords\n"
   ]
  },
  {
   "cell_type": "code",
   "execution_count": 9,
   "metadata": {},
   "outputs": [],
   "source": [
    "c.execute('select id, title, release_year, key_words from rtb_square_news')\n",
    "results = c.fetchall()\n"
   ]
  },
  {
   "cell_type": "code",
   "execution_count": 10,
   "metadata": {},
   "outputs": [],
   "source": [
    "results_with_key_words_list = []\n",
    "for item in results:\n",
    "    item_list = list(item[0:3])\n",
    "    if item[3] != '':\n",
    "        item_list.append(item[3].split('/'))\n",
    "    else:\n",
    "        item_list.append([])\n",
    "    results_with_key_words_list.append(item_list)"
   ]
  },
  {
   "cell_type": "code",
   "execution_count": 11,
   "metadata": {
    "collapsed": false
   },
   "outputs": [
    {
     "name": "stdout",
     "output_type": "stream",
     "text": [
      "release year: 2019| title: フリークアウト、チラシ動画生成ツール「ASE チラシ動画」をRICHKAと共同で提供開始| key_words: RICHKA/カクテルメイク/フリークアウト\nrelease year: 2019| title: Glossom、フリークアウトとの協業によりオーディエンスデータを活用したターゲティング広告「AdCorsa Native Ads」を提供開始| key_words: AdCorsa Native Ads/Glossom/グリー/フリークアウト\nrelease year: 2019| title: フリークアウトグループ、インド発動画向けコンテクストマッチ広告を提供するSilverPushを関連子会社化| key_words: SilverPush/インド/フリークアウト\nrelease year: 2019| title: フリークアウトグループ、アプリビジネス特化型の専門商社「本田商事株式会社」を設立| key_words: フリークアウト/本田商事\nrelease year: 2019| title: フリークアウトグループ、タイ・ベトナムにて最大級の女性メディアを運営するSpice Lab Pte.Ltd.を買収| key_words: Spice Lab/フリークアウト\nrelease year: 2018| title: フリークアウト、アプリエンゲージメントプラットフォーム「LayApp」提供開始| key_words: LayApp/フリークアウト\nrelease year: 2018| title: フリークアウトグループ、国内・海外広告事業の統合| key_words: FreakOut Pte. Ltd/フリークアウト/フリークアウトグループ\nrelease year: 2018| title: フリークアウトグループ、クロスボーダーマーケティング事業を強化| key_words: Rigoletto/Ultra FreakOut/クロスボーダーマーケティング/フリークアウト\nrelease year: 2018| title: フリークアウト、ジオマーケティングプロダクト「ASE」を 電子チラシサービス「Shufoo!」に提供開始| key_words: ASE/Shufoo/フリークアウト/位置情報\nrelease year: 2018| title: フリークアウトグループ、中国「上海惊点广告有限公司」を設立| key_words: フリークアウト/中国\nrelease year: 2018| title: フリークアウト、位置情報ターゲティング広告の「ASE Ad」にて郵便番号・町丁目・鉄道路線駅ターゲティングを提供開始| key_words: ASE Ad/フリークアウト/位置情報\nrelease year: 2018| title: フリークアウトモバイルマーケティングプラットフォーム「Red」、「クラシル」ならびに「LOCARI」への独占的広告配信サービスを提供開始| key_words: Red/クラシル/フリークアウト\nrelease year: 2017| title: フリークアウト・ホールディングス、新経営体制発足のお知らせ| key_words: フリークアウト\nrelease year: 2017| title: Datorama、フリークアウトの「Red」と連携開始| key_words: Datorama/フリークアウト\nrelease year: 2017| title: フリークアウト、媒体社向け広告配信プラットフォーム開発支援の新プロダクト「Red for Publishers」をリリース| key_words: Red for Publishers/フリークアウト\nrelease year: 2017| title: フリークアウト・ホールディングス、台湾にてトレーディングデスク事業及びメディアマネタイズ支援事業を展開するadGeekを子会社化| key_words: adGeek/フリークアウト/台湾\nrelease year: 2017| title: フリークアウトグループ、イラン子会社「FreakOut Iran」を設立| key_words: イラン/フリークアウト\nrelease year: 2017| title: フリークアウトグループ、南アジア初の拠点としてインド子会社を設立| key_words: インド/フリークアウト\nrelease year: 2017| title: フリークアウトグループ、東南アジアの新拠点としてベトナム、マレーシア、フィリピン子会社を設立| key_words: フィリピン/フリークアウト/ベトナム/マレーシア\nrelease year: 2017| title: D2C Rの「ART DMP」、ファンコミュニケーションズ「nend」と フリークアウト「Red」と連携| key_words: ART DMP/D2C R/nend/Red/ファンコミュニケーションズ/フリークアウト\nrelease year: 2017| title: フリークアウトグループ、東アジア香港市場へ参入〜スマートフォン向けネイティブ広告プラットフォーム事業を展開〜| key_words: フリークアウト/東南アジア\nrelease year: 2017| title: フリークアウト、リテールテックプロダクトユニット「ASE」を発足| key_words: フリークアウト/位置情報\nrelease year: 2017| title: フリークアウト・ホールディングス、Messengerチャットボット事業を展開するZEALSの第三者割当増資を引き受け| key_words: ZEALS/チャットボット/フリークアウト\nrelease year: 2017| title: フリークアウト、関西支社オフィス拡張のため移転| key_words: フリークアウト\nrelease year: 2017| title: フリークアウトのモバイルマーケティングプラットフォーム「Red」、Twitterの「MoPub」と接続開始| key_words: MoPub/Red/Twitter/フリークアウト\nrelease year: 2017| title: フリークアウトHD、クラウド型採用管理システムの｢タレンティオ｣を買収| key_words: タレンティオ/フリークアウト/買収\nrelease year: 2017| title: フリークアウトHD傘下のIRIS、Forbes JAPAN と連動する共同広告商品展開を開始| key_words: Forbes/IRIS/デジタルサイネージ/フリークアウト\nrelease year: 2017| title: フリークアウトHDのインドネシア子会社、広告管理ツール開発企業を買収し子会社化| key_words: フリークアウト/買収\nrelease year: 2017| title: フリークアウト、ホールディングス体制へ移行| key_words: freakout/フリークアウト\nrelease year: 2016| title: フリークアウト、ラグジュアリーブランド専門支援ユニット｢Luxe unit｣を発足| key_words: フリークアウト\nrelease year: 2016| title: フリークアウトの「Red」、アプリプロモーション向け広告配信サービスを開始| key_words: フリークアウト\nrelease year: 2016| title: 電通、フリークアウト傘下のインティメート・マージャーと資本業務提携| key_words: インティメート・マージャー/フリークアウト/電通\nrelease year: 2016| title: フリークアウト、中華圏の拠点として台湾子会社を設立| key_words: フリークアウト\nrelease year: 2016| title: 日本交通とフリークアウト、合弁会社「IRIS」を設立　〜IoT型デジタルサイネージ事業を開始〜| key_words: フリークアウト/日本交通\nrelease year: 2016| title: フリークアウト、コーポレートロゴを変更| key_words: フリークアウト\nrelease year: 2016| title: フリークアウト、LINE 広告枠への独占買付を行うモバイルマーケティングプラットフォーム「Red」をリリース| key_words: LINE/Red/フリークアウト\n"
     ]
    }
   ],
   "source": [
    "for item in results_with_key_words_list:\n",
    "    if item[3]:\n",
    "        if 'フリークアウト' in item[3]:\n",
    "            print('release year: ' + str(item[2]) + '| title: ' + item[1] + '| key_words: ' + \"/\".join(item[3]))"
   ]
  },
  {
   "cell_type": "code",
   "execution_count": null,
   "metadata": {},
   "outputs": [],
   "source": []
  }
 ],
 "metadata": {
  "kernelspec": {
   "display_name": "Python 2",
   "language": "python",
   "name": "python2"
  },
  "language_info": {
   "codemirror_mode": {
    "name": "ipython",
    "version": 2
   },
   "file_extension": ".py",
   "mimetype": "text/x-python",
   "name": "python",
   "nbconvert_exporter": "python",
   "pygments_lexer": "ipython2",
   "version": "2.7.6"
  }
 },
 "nbformat": 4,
 "nbformat_minor": 0
}
